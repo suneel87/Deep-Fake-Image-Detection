{
  "nbformat": 4,
  "nbformat_minor": 0,
  "metadata": {
    "colab": {
      "name": "DeepFake_Image.ipynb",
      "provenance": [],
      "collapsed_sections": [],
      "machine_shape": "hm",
      "include_colab_link": true
    },
    "kernelspec": {
      "display_name": "Python 3",
      "name": "python3"
    },
    "language_info": {
      "name": "python"
    },
    "accelerator": "GPU",
    "widgets": {
      "application/vnd.jupyter.widget-state+json": {
        "c652afe48cfd4253b380fc3b7d536f24": {
          "model_module": "@jupyter-widgets/controls",
          "model_name": "HBoxModel",
          "model_module_version": "1.5.0",
          "state": {
            "_view_name": "HBoxView",
            "_dom_classes": [],
            "_model_name": "HBoxModel",
            "_view_module": "@jupyter-widgets/controls",
            "_model_module_version": "1.5.0",
            "_view_count": null,
            "_view_module_version": "1.5.0",
            "box_style": "",
            "layout": "IPY_MODEL_45210f0287d84a61808cf47b0c0eaee0",
            "_model_module": "@jupyter-widgets/controls",
            "children": [
              "IPY_MODEL_1811961a62464c89b420275ac53b5b04",
              "IPY_MODEL_b1eb5c7fd00949d4aa207ad5bfb0373c",
              "IPY_MODEL_8664845df8e841cfb2811fca1862f955"
            ]
          }
        },
        "45210f0287d84a61808cf47b0c0eaee0": {
          "model_module": "@jupyter-widgets/base",
          "model_name": "LayoutModel",
          "model_module_version": "1.2.0",
          "state": {
            "_view_name": "LayoutView",
            "grid_template_rows": null,
            "right": null,
            "justify_content": null,
            "_view_module": "@jupyter-widgets/base",
            "overflow": null,
            "_model_module_version": "1.2.0",
            "_view_count": null,
            "flex_flow": null,
            "width": null,
            "min_width": null,
            "border": null,
            "align_items": null,
            "bottom": null,
            "_model_module": "@jupyter-widgets/base",
            "top": null,
            "grid_column": null,
            "overflow_y": null,
            "overflow_x": null,
            "grid_auto_flow": null,
            "grid_area": null,
            "grid_template_columns": null,
            "flex": null,
            "_model_name": "LayoutModel",
            "justify_items": null,
            "grid_row": null,
            "max_height": null,
            "align_content": null,
            "visibility": null,
            "align_self": null,
            "height": null,
            "min_height": null,
            "padding": null,
            "grid_auto_rows": null,
            "grid_gap": null,
            "max_width": null,
            "order": null,
            "_view_module_version": "1.2.0",
            "grid_template_areas": null,
            "object_position": null,
            "object_fit": null,
            "grid_auto_columns": null,
            "margin": null,
            "display": null,
            "left": null
          }
        },
        "1811961a62464c89b420275ac53b5b04": {
          "model_module": "@jupyter-widgets/controls",
          "model_name": "HTMLModel",
          "model_module_version": "1.5.0",
          "state": {
            "_view_name": "HTMLView",
            "style": "IPY_MODEL_f9edc268fd5e4910b4e354c4af6e42ff",
            "_dom_classes": [],
            "description": "",
            "_model_name": "HTMLModel",
            "placeholder": "​",
            "_view_module": "@jupyter-widgets/controls",
            "_model_module_version": "1.5.0",
            "value": "100%",
            "_view_count": null,
            "_view_module_version": "1.5.0",
            "description_tooltip": null,
            "_model_module": "@jupyter-widgets/controls",
            "layout": "IPY_MODEL_99bd50520f724f0c80a05fbe4f8a2da9"
          }
        },
        "b1eb5c7fd00949d4aa207ad5bfb0373c": {
          "model_module": "@jupyter-widgets/controls",
          "model_name": "FloatProgressModel",
          "model_module_version": "1.5.0",
          "state": {
            "_view_name": "ProgressView",
            "style": "IPY_MODEL_924fbc5ad4074880bf7f4a5b936305f4",
            "_dom_classes": [],
            "description": "",
            "_model_name": "FloatProgressModel",
            "bar_style": "success",
            "max": 102530333,
            "_view_module": "@jupyter-widgets/controls",
            "_model_module_version": "1.5.0",
            "value": 102530333,
            "_view_count": null,
            "_view_module_version": "1.5.0",
            "orientation": "horizontal",
            "min": 0,
            "description_tooltip": null,
            "_model_module": "@jupyter-widgets/controls",
            "layout": "IPY_MODEL_b2e3c3be224e4755aea88649fbbd31ec"
          }
        },
        "8664845df8e841cfb2811fca1862f955": {
          "model_module": "@jupyter-widgets/controls",
          "model_name": "HTMLModel",
          "model_module_version": "1.5.0",
          "state": {
            "_view_name": "HTMLView",
            "style": "IPY_MODEL_2f5ec3b215b14ae0b36805a9d7342d13",
            "_dom_classes": [],
            "description": "",
            "_model_name": "HTMLModel",
            "placeholder": "​",
            "_view_module": "@jupyter-widgets/controls",
            "_model_module_version": "1.5.0",
            "value": " 97.8M/97.8M [00:01&lt;00:00, 95.0MB/s]",
            "_view_count": null,
            "_view_module_version": "1.5.0",
            "description_tooltip": null,
            "_model_module": "@jupyter-widgets/controls",
            "layout": "IPY_MODEL_9cb3aa473086495aa65e444b74367436"
          }
        },
        "f9edc268fd5e4910b4e354c4af6e42ff": {
          "model_module": "@jupyter-widgets/controls",
          "model_name": "DescriptionStyleModel",
          "model_module_version": "1.5.0",
          "state": {
            "_view_name": "StyleView",
            "_model_name": "DescriptionStyleModel",
            "description_width": "",
            "_view_module": "@jupyter-widgets/base",
            "_model_module_version": "1.5.0",
            "_view_count": null,
            "_view_module_version": "1.2.0",
            "_model_module": "@jupyter-widgets/controls"
          }
        },
        "99bd50520f724f0c80a05fbe4f8a2da9": {
          "model_module": "@jupyter-widgets/base",
          "model_name": "LayoutModel",
          "model_module_version": "1.2.0",
          "state": {
            "_view_name": "LayoutView",
            "grid_template_rows": null,
            "right": null,
            "justify_content": null,
            "_view_module": "@jupyter-widgets/base",
            "overflow": null,
            "_model_module_version": "1.2.0",
            "_view_count": null,
            "flex_flow": null,
            "width": null,
            "min_width": null,
            "border": null,
            "align_items": null,
            "bottom": null,
            "_model_module": "@jupyter-widgets/base",
            "top": null,
            "grid_column": null,
            "overflow_y": null,
            "overflow_x": null,
            "grid_auto_flow": null,
            "grid_area": null,
            "grid_template_columns": null,
            "flex": null,
            "_model_name": "LayoutModel",
            "justify_items": null,
            "grid_row": null,
            "max_height": null,
            "align_content": null,
            "visibility": null,
            "align_self": null,
            "height": null,
            "min_height": null,
            "padding": null,
            "grid_auto_rows": null,
            "grid_gap": null,
            "max_width": null,
            "order": null,
            "_view_module_version": "1.2.0",
            "grid_template_areas": null,
            "object_position": null,
            "object_fit": null,
            "grid_auto_columns": null,
            "margin": null,
            "display": null,
            "left": null
          }
        },
        "924fbc5ad4074880bf7f4a5b936305f4": {
          "model_module": "@jupyter-widgets/controls",
          "model_name": "ProgressStyleModel",
          "model_module_version": "1.5.0",
          "state": {
            "_view_name": "StyleView",
            "_model_name": "ProgressStyleModel",
            "description_width": "",
            "_view_module": "@jupyter-widgets/base",
            "_model_module_version": "1.5.0",
            "_view_count": null,
            "_view_module_version": "1.2.0",
            "bar_color": null,
            "_model_module": "@jupyter-widgets/controls"
          }
        },
        "b2e3c3be224e4755aea88649fbbd31ec": {
          "model_module": "@jupyter-widgets/base",
          "model_name": "LayoutModel",
          "model_module_version": "1.2.0",
          "state": {
            "_view_name": "LayoutView",
            "grid_template_rows": null,
            "right": null,
            "justify_content": null,
            "_view_module": "@jupyter-widgets/base",
            "overflow": null,
            "_model_module_version": "1.2.0",
            "_view_count": null,
            "flex_flow": null,
            "width": null,
            "min_width": null,
            "border": null,
            "align_items": null,
            "bottom": null,
            "_model_module": "@jupyter-widgets/base",
            "top": null,
            "grid_column": null,
            "overflow_y": null,
            "overflow_x": null,
            "grid_auto_flow": null,
            "grid_area": null,
            "grid_template_columns": null,
            "flex": null,
            "_model_name": "LayoutModel",
            "justify_items": null,
            "grid_row": null,
            "max_height": null,
            "align_content": null,
            "visibility": null,
            "align_self": null,
            "height": null,
            "min_height": null,
            "padding": null,
            "grid_auto_rows": null,
            "grid_gap": null,
            "max_width": null,
            "order": null,
            "_view_module_version": "1.2.0",
            "grid_template_areas": null,
            "object_position": null,
            "object_fit": null,
            "grid_auto_columns": null,
            "margin": null,
            "display": null,
            "left": null
          }
        },
        "2f5ec3b215b14ae0b36805a9d7342d13": {
          "model_module": "@jupyter-widgets/controls",
          "model_name": "DescriptionStyleModel",
          "model_module_version": "1.5.0",
          "state": {
            "_view_name": "StyleView",
            "_model_name": "DescriptionStyleModel",
            "description_width": "",
            "_view_module": "@jupyter-widgets/base",
            "_model_module_version": "1.5.0",
            "_view_count": null,
            "_view_module_version": "1.2.0",
            "_model_module": "@jupyter-widgets/controls"
          }
        },
        "9cb3aa473086495aa65e444b74367436": {
          "model_module": "@jupyter-widgets/base",
          "model_name": "LayoutModel",
          "model_module_version": "1.2.0",
          "state": {
            "_view_name": "LayoutView",
            "grid_template_rows": null,
            "right": null,
            "justify_content": null,
            "_view_module": "@jupyter-widgets/base",
            "overflow": null,
            "_model_module_version": "1.2.0",
            "_view_count": null,
            "flex_flow": null,
            "width": null,
            "min_width": null,
            "border": null,
            "align_items": null,
            "bottom": null,
            "_model_module": "@jupyter-widgets/base",
            "top": null,
            "grid_column": null,
            "overflow_y": null,
            "overflow_x": null,
            "grid_auto_flow": null,
            "grid_area": null,
            "grid_template_columns": null,
            "flex": null,
            "_model_name": "LayoutModel",
            "justify_items": null,
            "grid_row": null,
            "max_height": null,
            "align_content": null,
            "visibility": null,
            "align_self": null,
            "height": null,
            "min_height": null,
            "padding": null,
            "grid_auto_rows": null,
            "grid_gap": null,
            "max_width": null,
            "order": null,
            "_view_module_version": "1.2.0",
            "grid_template_areas": null,
            "object_position": null,
            "object_fit": null,
            "grid_auto_columns": null,
            "margin": null,
            "display": null,
            "left": null
          }
        }
      }
    }
  },
  "cells": [
    {
      "cell_type": "markdown",
      "metadata": {
        "id": "view-in-github",
        "colab_type": "text"
      },
      "source": [
        "<a href=\"https://colab.research.google.com/github/suneel87/Deep-Fake-Image-Detection/blob/main/DeepFake_Image.ipynb\" target=\"_parent\"><img src=\"https://colab.research.google.com/assets/colab-badge.svg\" alt=\"Open In Colab\"/></a>"
      ]
    },
    {
      "cell_type": "code",
      "metadata": {
        "colab": {
          "base_uri": "https://localhost:8080/"
        },
        "id": "26_qT2-7YPNR",
        "outputId": "648ff749-03df-4da8-dd24-f102b84c5217"
      },
      "source": [
        "from google.colab import drive\n",
        "drive.mount('/content/drive')"
      ],
      "execution_count": null,
      "outputs": [
        {
          "output_type": "stream",
          "name": "stdout",
          "text": [
            "Drive already mounted at /content/drive; to attempt to forcibly remount, call drive.mount(\"/content/drive\", force_remount=True).\n"
          ]
        }
      ]
    },
    {
      "cell_type": "code",
      "metadata": {
        "id": "6Tx2r8YQ_QS5"
      },
      "source": [
        "pip install streamlit"
      ],
      "execution_count": null,
      "outputs": []
    },
    {
      "cell_type": "markdown",
      "metadata": {
        "id": "m5naTQ8yy5UU"
      },
      "source": [
        "### **Import Necessary Modules**"
      ]
    },
    {
      "cell_type": "code",
      "metadata": {
        "id": "njb7fTuzYmc0"
      },
      "source": [
        "from itertools import permutations, product\n",
        "from random import sample, choice, shuffle\n",
        "from glob import glob\n",
        "import time\n",
        "from datetime import timedelta\n",
        "from tqdm import tqdm\n",
        "\n",
        "\n",
        "%matplotlib inline\n",
        "import torchvision\n",
        "import torchvision.datasets as dset\n",
        "import torchvision.transforms as transforms\n",
        "from torch.utils.data import DataLoader,Dataset\n",
        "import matplotlib.pyplot as plt\n",
        "import torchvision.utils\n",
        "import numpy as np\n",
        "import random\n",
        "from PIL import Image\n",
        "import torch\n",
        "from torch.autograd import Variable\n",
        "import PIL.ImageOps    \n",
        "import torch.nn as nn\n",
        "from torch import optim\n",
        "import torch.nn.functional as F\n",
        "import torchvision.models as models\n",
        "import streamlit as st"
      ],
      "execution_count": null,
      "outputs": []
    },
    {
      "cell_type": "markdown",
      "metadata": {
        "id": "FPTCS58ezAzC"
      },
      "source": [
        "### **Functions Used**"
      ]
    },
    {
      "cell_type": "code",
      "metadata": {
        "id": "-32B_u_pZrbs"
      },
      "source": [
        "'''\n",
        "This functions computes the Contrastive loss for a CFFN\n",
        "\n",
        "Input: Label(y)(0 or 1), Feature Vectors for a pair of images(fx1,fx2)\n",
        "Output: The value of Contrastive loss\n",
        "Return Type: PyTorch Tensor\n",
        "'''\n",
        "def ContrastiveLoss(y,fx1,fx2):\n",
        "  m=2\n",
        "  E=torch.pow((fx1-fx2),2)\n",
        "  mat_max = np.maximum(np.zeros((y.shape[0], 128)), torch.pow((m-E),2).detach().cpu().numpy())\n",
        "  torch_loss = 0.5*(y.detach().cpu().numpy()*torch.pow(E,2).detach().cpu().numpy().T) + (1-y.detach().cpu().numpy())*mat_max.T\n",
        "  return torch.tensor(torch.sum(torch.tensor(torch_loss.T)), requires_grad=True)"
      ],
      "execution_count": 1,
      "outputs": []
    },
    {
      "cell_type": "code",
      "metadata": {
        "id": "vSsXcRYazZoM"
      },
      "source": [
        "'''\n",
        "This functions plots multiple images in one grid\n",
        "\n",
        "Input: A grid of images made using torch.utils\n",
        "Output: The plot (matplotlib) for these images in one grid\n",
        "'''\n",
        "def imshow(img,text=None,should_save=False):\n",
        "    npimg = img.numpy()\n",
        "    plt.axis(\"off\")\n",
        "    if text:\n",
        "        plt.text(75, 8, text, style='italic',fontweight='bold',\n",
        "            bbox={'facecolor':'white', 'alpha':0.8, 'pad':10})\n",
        "    plt.imshow(np.transpose(npimg, (1, 2, 0)))\n",
        "    plt.show()    "
      ],
      "execution_count": null,
      "outputs": []
    },
    {
      "cell_type": "code",
      "metadata": {
        "id": "8IAHXgkezbpy"
      },
      "source": [
        "'''\n",
        "This functions plots the loss for that particular iteration in an epoch\n",
        "\n",
        "Input: Iteration Number (iteration) and the Loss (loss)\n",
        "Output: The matplotlib plot for the loss\n",
        "'''\n",
        "def show_plot(iteration,loss):\n",
        "    plt.plot(iteration,loss)\n",
        "    plt.show()"
      ],
      "execution_count": null,
      "outputs": []
    },
    {
      "cell_type": "code",
      "metadata": {
        "id": "jifCutAg1mxw"
      },
      "source": [
        "'''\n",
        "This functions predicts the state of a given image\n",
        "\n",
        "Input: The image (image)\n",
        "Output: The value of the state of the image (0 for fake and 1 for real)\n",
        "Return Type: Integer\n",
        "'''\n",
        "def predict_image(image):\n",
        "\n",
        "    net = SiameseNetwork(models.resnet50(pretrained=True),1000).cuda()\n",
        "    net2 = NeuralNet().cuda()\n",
        "\n",
        "    net.load_state_dict(torch.load(\"net.pth\"))\n",
        "    net2.load_state_dict(torch.load(\"net2.pth\"))\n",
        "\n",
        "    net.eval()\n",
        "    net2.eval()\n",
        "    test_transforms = transforms.Compose([transforms.Resize((100,100)),transforms.ToTensor()])\n",
        "    img=Image.open(image)\n",
        "    image_tensor = test_transforms(img).float()\n",
        "    image_tensor = image_tensor.unsqueeze_(0)\n",
        "    input = Variable(image_tensor)\n",
        "    input = input.cuda()\n",
        "    out1=net([input])\n",
        "    output = net2(out1[0])\n",
        "    print(output.data.cpu().numpy())\n",
        "    index = output.data.cpu().numpy().argmax()\n",
        "    \n",
        "    return index"
      ],
      "execution_count": null,
      "outputs": []
    },
    {
      "cell_type": "markdown",
      "metadata": {
        "id": "VICbCScXzFuK"
      },
      "source": [
        "### **Reading the images and pairing them**"
      ]
    },
    {
      "cell_type": "code",
      "metadata": {
        "id": "atyPSYVkYvMc"
      },
      "source": [
        "fake = glob(\"/content/drive/My Drive/faces/fake/*\")\n",
        "real = glob(\"/content/drive/My Drive/faces/real/*\")"
      ],
      "execution_count": null,
      "outputs": []
    },
    {
      "cell_type": "code",
      "metadata": {
        "id": "Dxzc1BpdZepn"
      },
      "source": [
        "fake_ = [x.split(\"/\")[-1] for x in fake]\n",
        "real_ = [x.split(\"/\")[-1] for x in real]\n",
        "\n",
        "fake_ = [\"fake_\" + x for x in fake_]"
      ],
      "execution_count": null,
      "outputs": []
    },
    {
      "cell_type": "code",
      "metadata": {
        "colab": {
          "base_uri": "https://localhost:8080/"
        },
        "id": "td6l60uaZvvU",
        "outputId": "675f5599-e23c-46e1-80d2-a94cc913a472"
      },
      "source": [
        "start = time.time()\n",
        "\n",
        "pairs_distinct = list(product(real_,fake_))\n",
        "\n",
        "pairs_real = list(product(real_,real_))\n",
        "\n",
        "pairs_fake = list(product(fake_,fake_))\n",
        "\n",
        "end = time.time()\n",
        "\n",
        "print(f'Time Taken: {timedelta(seconds=(end - start))}')"
      ],
      "execution_count": null,
      "outputs": [
        {
          "output_type": "stream",
          "name": "stdout",
          "text": [
            "Time Taken: 0:00:00.290267\n"
          ]
        }
      ]
    },
    {
      "cell_type": "code",
      "metadata": {
        "colab": {
          "base_uri": "https://localhost:8080/"
        },
        "id": "rhbK4S-0CRs5",
        "outputId": "d5c72d2b-0f6e-4e72-a425-bd2873903ce4"
      },
      "source": [
        "len(pairs_distinct) + len(pairs_fake) + len(pairs_real)"
      ],
      "execution_count": null,
      "outputs": [
        {
          "output_type": "execute_result",
          "data": {
            "text/plain": [
              "3127921"
            ]
          },
          "metadata": {},
          "execution_count": 12
        }
      ]
    },
    {
      "cell_type": "code",
      "metadata": {
        "id": "RadXNKYraD0V"
      },
      "source": [
        "pairs = pairs_distinct + pairs_real + pairs_fake\n",
        "pairs = sample(pairs, len(pairs))\n",
        "pairs = list(set(pairs))"
      ],
      "execution_count": null,
      "outputs": []
    },
    {
      "cell_type": "code",
      "metadata": {
        "colab": {
          "base_uri": "https://localhost:8080/"
        },
        "id": "K5PJGEAfaG_S",
        "outputId": "f3313bcb-cd72-4870-dd6d-1d04f504e90e"
      },
      "source": [
        "ord('f'), ord('r')"
      ],
      "execution_count": null,
      "outputs": [
        {
          "output_type": "execute_result",
          "data": {
            "text/plain": [
              "(102, 114)"
            ]
          },
          "metadata": {},
          "execution_count": 14
        }
      ]
    },
    {
      "cell_type": "code",
      "metadata": {
        "colab": {
          "base_uri": "https://localhost:8080/"
        },
        "id": "6GGJ9WFHaIi5",
        "outputId": "66fda0f7-9d7c-4486-841d-bba66503e517"
      },
      "source": [
        "start = time.time()\n",
        "\n",
        "label_dict = {}\n",
        "for idx, pair in enumerate(pairs):\n",
        "    l1, l2 = pair[0].split(\"_\")[0][0], pair[1].split(\"_\")[0][0]\n",
        "    \n",
        "    l_sum = ord(l1) + ord(l2)\n",
        "    \n",
        "    if l_sum == 204:\n",
        "        label = 1 #impostor pair\n",
        "    elif l_sum == 216:\n",
        "        label = 0\n",
        "    elif l_sum == 228:\n",
        "        label = 1 # real pair\n",
        "    \n",
        "    label_dict[idx] = label\n",
        "\n",
        "end = time.time()\n",
        "\n",
        "print(f'Time Taken: {timedelta(seconds=(end - start))}')"
      ],
      "execution_count": null,
      "outputs": [
        {
          "output_type": "stream",
          "name": "stdout",
          "text": [
            "Time Taken: 0:00:03.986266\n"
          ]
        }
      ]
    },
    {
      "cell_type": "markdown",
      "metadata": {
        "id": "7his_jz1zgIi"
      },
      "source": [
        "### **Forming a Dataset**"
      ]
    },
    {
      "cell_type": "code",
      "metadata": {
        "id": "vEzLD_VFaPUn"
      },
      "source": [
        "BATCH_SIZE=64\n",
        "NUMBER_EPOCHS=1\n",
        "IMG_SIZE=100"
      ],
      "execution_count": null,
      "outputs": []
    },
    {
      "cell_type": "code",
      "metadata": {
        "id": "mxAYtpRWiihA"
      },
      "source": [
        "a, b, c = np.array_split(pairs, 3) #spitting train,test and image sizes"
      ],
      "execution_count": null,
      "outputs": []
    },
    {
      "cell_type": "code",
      "metadata": {
        "colab": {
          "base_uri": "https://localhost:8080/"
        },
        "id": "7kPSvT7PkJXQ",
        "outputId": "b257b9f7-5e34-44ed-a1be-f2c7881e0387"
      },
      "source": [
        "len(a), len(b), len(c)"
      ],
      "execution_count": null,
      "outputs": [
        {
          "output_type": "execute_result",
          "data": {
            "text/plain": [
              "(1042641, 1042640, 1042640)"
            ]
          },
          "metadata": {},
          "execution_count": 18
        }
      ]
    },
    {
      "cell_type": "code",
      "metadata": {
        "id": "ekbS8d16aNEc"
      },
      "source": [
        "class DFDataset(Dataset):\n",
        "    \n",
        "    def __init__(self, root_dir, real_dir, fake_dir, pairs, lab_dict, transform=None):\n",
        "        self.root_dir = root_dir\n",
        "        self.real_dir = real_dir\n",
        "        self.fake_dir = fake_dir\n",
        "        self.transform = transform\n",
        "        self.pairs = pairs\n",
        "        self.lab_dict = lab_dict\n",
        "    \n",
        "    def __len__(self):\n",
        "        return len(self.pairs)\n",
        "    \n",
        "    def __getitem__(self, idx):\n",
        "        pair = self.pairs[idx]\n",
        "        class_labels = []\n",
        "        \n",
        "        if pair[0].split(\"_\")[0] == \"real\":\n",
        "            img1 = Image.open(f'{self.root_dir}/{self.real_dir}/{pair[0]}')\n",
        "            class_labels.append(1)\n",
        "            \n",
        "        elif pair[0].split(\"_\")[0] == \"fake\":\n",
        "            path_ = pair[0].replace('fake_', '')\n",
        "            img1 = Image.open(f'{self.root_dir}/{self.fake_dir}/{path_}')\n",
        "            class_labels.append(0)\n",
        "            \n",
        "        if pair[1].split(\"_\")[0] == \"real\":\n",
        "            img2 = Image.open(f'{self.root_dir}/{self.real_dir}/{pair[1]}')\n",
        "            class_labels.append(1)\n",
        "            \n",
        "        elif pair[1].split(\"_\")[0] == \"fake\":\n",
        "            path_ = pair[1].replace('fake_', '')\n",
        "            img2 = Image.open(f'{self.root_dir}/{self.fake_dir}/{path_}')\n",
        "            class_labels.append(0)\n",
        "            \n",
        "        if self.transform is not None:\n",
        "            img1 = self.transform(img1)\n",
        "            img2 = self.transform(img2)\n",
        "            \n",
        "        \n",
        "        label = self.lab_dict[idx]\n",
        "        \n",
        "        return img1, img2, label, class_labels\n",
        "        "
      ],
      "execution_count": null,
      "outputs": []
    },
    {
      "cell_type": "code",
      "metadata": {
        "id": "CAAmK6JZaQ-D"
      },
      "source": [
        "trainset = DFDataset('/content/drive/My Drive/faces', 'real', 'fake', sample(list(a), 1000), label_dict, \n",
        "                                                             transform=transforms.Compose([transforms.Resize((100,100)),\n",
        "                                                                      transforms.ToTensor()\n",
        "                                                                      ]))\n",
        "\n",
        "trainloader = DataLoader(trainset,\n",
        "                        shuffle=True,#whether randomly shuffle data in each epoch, but cannot let data in one batch in order.\n",
        "                        batch_size=BATCH_SIZE)\n",
        "\n",
        "\n",
        "valset = DFDataset('/content/drive/My Drive/faces', 'real', 'fake', sample(list(b), 1000), label_dict, \n",
        "                                                             transform=transforms.Compose([transforms.Resize((100,100)),\n",
        "                                                                      transforms.ToTensor()\n",
        "                                                                      ]))\n",
        "\n",
        "valloader = DataLoader(valset,\n",
        "                        shuffle=True,#whether randomly shuffle data in each epoch, but cannot let data in one batch in order.\n",
        "                        batch_size=BATCH_SIZE)\n"
      ],
      "execution_count": null,
      "outputs": []
    },
    {
      "cell_type": "code",
      "metadata": {
        "colab": {
          "base_uri": "https://localhost:8080/",
          "height": 132
        },
        "id": "l03d7g2Zahd5",
        "outputId": "db0bc531-ebfd-4c17-8960-81fc1c859eda"
      },
      "source": [
        "vis_dataloader = DataLoader(trainset,\n",
        "                        shuffle=True,\n",
        "                        batch_size=8)\n",
        "dataiter = iter(vis_dataloader)\n",
        "\n",
        "\n",
        "example_batch = next(dataiter)\n",
        "concatenated = torch.cat((example_batch[0],example_batch[1]),0)\n",
        "imshow(torchvision.utils.make_grid(concatenated))\n",
        "print(example_batch[2].numpy())"
      ],
      "execution_count": null,
      "outputs": [
        {
          "output_type": "display_data",
          "data": {
            "image/png": "[encoded data removed]",
            "text/plain": [
              "<Figure size 432x288 with 1 Axes>"
            ]
          },
          "metadata": {
            "needs_background": "light"
          }
        },
        {
          "output_type": "stream",
          "name": "stdout",
          "text": [
            "[0 1 1 1 0 1 1 0]\n"
          ]
        }
      ]
    },
    {
      "cell_type": "markdown",
      "metadata": {
        "id": "B9N5nl5E0RvT"
      },
      "source": [
        "### **Building a CFFN**"
      ]
    },
    {
      "cell_type": "code",
      "metadata": {
        "id": "I9-7De2VbCp7"
      },
      "source": [
        "class SiameseNetwork(nn.Module):# A simple implementation of siamese network\n",
        "    def __init__(self,model,n):#Parameters: The name of the model used and the size\n",
        "        super(SiameseNetwork, self).__init__()\n",
        "        self.cnn1 = model\n",
        "        self.fc1 = nn.Linear(n, 500)\n",
        "        self.fc2 = nn.Linear(500, 500)\n",
        "        self.fc3 = nn.Linear(500, 128)\n",
        "\n",
        "\n",
        "    def forward(self, inputs):\n",
        "        results = []\n",
        "\n",
        "        for input in inputs:\n",
        "            output = self.cnn1(input)\n",
        "            output = output.view(output.size()[0], -1)\n",
        "            output = F.relu(self.fc1(output))\n",
        "            output = F.relu(self.fc2(output))\n",
        "            output = self.fc3(output)\n",
        "\n",
        "            results.append(output)\n",
        "\n",
        "        return results"
      ],
      "execution_count": null,
      "outputs": []
    },
    {
      "cell_type": "code",
      "metadata": {
        "colab": {
          "base_uri": "https://localhost:8080/",
          "height": 1000,
          "referenced_widgets": [
            "c652afe48cfd4253b380fc3b7d536f24",
            "45210f0287d84a61808cf47b0c0eaee0",
            "1811961a62464c89b420275ac53b5b04",
            "b1eb5c7fd00949d4aa207ad5bfb0373c",
            "8664845df8e841cfb2811fca1862f955",
            "f9edc268fd5e4910b4e354c4af6e42ff",
            "99bd50520f724f0c80a05fbe4f8a2da9",
            "924fbc5ad4074880bf7f4a5b936305f4",
            "b2e3c3be224e4755aea88649fbbd31ec",
            "2f5ec3b215b14ae0b36805a9d7342d13",
            "9cb3aa473086495aa65e444b74367436"
          ]
        },
        "id": "z-jnl2-wbErT",
        "outputId": "fdac094a-f55b-4230-c442-4b7826debece"
      },
      "source": [
        "# custom_cnn =  nn.Sequential(\n",
        "#             nn.ReflectionPad2d(1),\n",
        "#             nn.Conv2d(3, BATCH_SIZE, kernel_size=3),\n",
        "#             nn.ReLU(inplace=True),\n",
        "#             nn.BatchNorm2d(BATCH_SIZE),\n",
        "#             nn.Dropout2d(p=.2),\n",
        "            \n",
        "#             nn.ReflectionPad2d(1),\n",
        "#             nn.Conv2d(BATCH_SIZE, BATCH_SIZE, kernel_size=3),\n",
        "#             nn.ReLU(inplace=True),\n",
        "#             nn.BatchNorm2d(BATCH_SIZE),\n",
        "#             nn.Dropout2d(p=.2),\n",
        "\n",
        "#             nn.ReflectionPad2d(1),\n",
        "#             nn.Conv2d(BATCH_SIZE, 32, kernel_size=3),\n",
        "#             nn.ReLU(inplace=True),\n",
        "#             nn.BatchNorm2d(32),\n",
        "#             nn.Dropout2d(p=.2),\n",
        "#         )\n",
        "\n",
        "# custom_cnn_n = 32*100*100\n",
        "\n",
        "net = SiameseNetwork(models.resnet50(pretrained=True),1000).cuda()\n",
        "criterion = nn.CrossEntropyLoss() # use a Classification Cross-Entropy loss\n",
        "optimizer = optim.SGD(net.parameters(), lr=0.001, momentum=0.9)\n",
        "\n",
        "counter = []\n",
        "loss_history = [] \n",
        "iteration_number= 0\n",
        "\n",
        "for epoch in range(0,NUMBER_EPOCHS):\n",
        "    print(\"Epoch：\", epoch, \" start.\")\n",
        "    for i, data in enumerate(trainloader,0):\n",
        "        img0, img1 , labels, _ = data\n",
        "        img0, img1 , labels = img0.cuda(), img1.cuda() , labels.cuda()#move to GPU\n",
        "        #print(\"epoch：\", epoch, \"No.\" , i, \"th inputs\", img0.data.size(), \"labels\", labels.data.size())\n",
        "        optimizer.zero_grad()#clear the calculated grad in previous batch\n",
        "        outputs = net([img0,img1])\n",
        "        loss = ContrastiveLoss(labels, outputs[0], outputs[1])\n",
        "        loss.backward()\n",
        "        optimizer.step()\n",
        "\n",
        "        print(\"Iteration number {}\\n Current loss {}\\n\".format(i,loss.item()))\n",
        "        if i %10 == 0 :#show changes of loss value after each 10 batches\n",
        "            iteration_number +=10\n",
        "            counter.append(iteration_number)\n",
        "            loss_history.append(loss.item())\n",
        "    \n",
        "    #test the network after finish each epoch, to have a brief training result.\n",
        "    correct_val = 0\n",
        "    total_val = 0\n",
        "    with torch.no_grad():#essential for testing\n",
        "        for data in valloader:\n",
        "            img0, img1 , labels, _ = data\n",
        "            img0, img1 , labels = img0.cuda(), img1.cuda() , labels.cuda()\n",
        "            outputs = net([img0,img1])\n",
        "            _, predicted = torch.max(outputs[0].data, 1)\n",
        "            total_val += labels.size(0)\n",
        "            correct_val += (predicted == labels).sum().item()\n",
        "            \n",
        "    print('Accuracy of the network on the', total_val,': %d %%' % (100 * correct_val / total_val))\n",
        "    show_plot(counter,loss_history)"
      ],
      "execution_count": null,
      "outputs": [
        {
          "output_type": "stream",
          "name": "stderr",
          "text": [
            "Downloading: \"https://download.pytorch.org/models/resnet50-0676ba61.pth\" to /root/.cache/torch/hub/checkpoints/resnet50-0676ba61.pth\n"
          ]
        },
        {
          "output_type": "display_data",
          "data": {
            "application/vnd.jupyter.widget-view+json": {
              "model_id": "c652afe48cfd4253b380fc3b7d536f24",
              "version_minor": 0,
              "version_major": 2
            },
            "text/plain": [
              "  0%|          | 0.00/97.8M [00:00<?, ?B/s]"
            ]
          },
          "metadata": {}
        },
        {
          "output_type": "stream",
          "name": "stdout",
          "text": [
            "Epoch： 0  start.\n"
          ]
        },
        {
          "output_type": "stream",
          "name": "stderr",
          "text": [
            "/usr/local/lib/python3.7/dist-packages/ipykernel_launcher.py:6: UserWarning: To copy construct from a tensor, it is recommended to use sourceTensor.clone().detach() or sourceTensor.clone().detach().requires_grad_(True), rather than torch.tensor(sourceTensor).\n",
            "  \n"
          ]
        },
        {
          "output_type": "stream",
          "name": "stdout",
          "text": [
            "Epoch number 0\n",
            " Current loss 10259.893329108472\n",
            "\n",
            "Epoch number 0\n",
            " Current loss 10289.107644708798\n",
            "\n",
            "Epoch number 0\n",
            " Current loss 15215.956498462803\n",
            "\n",
            "Epoch number 0\n",
            " Current loss 13718.173994161962\n",
            "\n",
            "Epoch number 0\n",
            " Current loss 11769.94604241757\n",
            "\n",
            "Epoch number 0\n",
            " Current loss 11300.159581359545\n",
            "\n",
            "Epoch number 0\n",
            " Current loss 11283.677372127666\n",
            "\n",
            "Epoch number 0\n",
            " Current loss 10731.559327317638\n",
            "\n",
            "Epoch number 0\n",
            " Current loss 12696.367155068736\n",
            "\n",
            "Epoch number 0\n",
            " Current loss 8314.925860011457\n",
            "\n",
            "Epoch number 0\n",
            " Current loss 9370.804141539742\n",
            "\n",
            "Epoch number 0\n",
            " Current loss 13722.840388903418\n",
            "\n",
            "Epoch number 0\n",
            " Current loss 12245.964763696922\n",
            "\n",
            "Epoch number 0\n",
            " Current loss 9829.00922858711\n",
            "\n",
            "Epoch number 0\n",
            " Current loss 14724.775739349545\n",
            "\n",
            "Epoch number 0\n",
            " Current loss 4419.325715198553\n",
            "\n",
            "Accuracy of the network on the 1000 : 0 %\n"
          ]
        },
        {
          "output_type": "display_data",
          "data": {
            "image/png": "[encoded data removed]",
            "text/plain": [
              "<Figure size 432x288 with 1 Axes>"
            ]
          },
          "metadata": {
            "needs_background": "light"
          }
        }
      ]
    },
    {
      "cell_type": "markdown",
      "metadata": {
        "id": "LS6HAxUA0YqG"
      },
      "source": [
        "### **Building a Classification Network**"
      ]
    },
    {
      "cell_type": "code",
      "metadata": {
        "id": "JsH4H72rr8-x"
      },
      "source": [
        "class NeuralNet(nn.Module):\n",
        "    \n",
        "    def __init__(self, in_features=4, out_features=3):\n",
        "        super().__init__()\n",
        "        self.fc1 = nn.Linear(in_features=128,\n",
        "                             out_features=120)\n",
        "        self.fc2 = nn.Linear(in_features=120, \n",
        "                             out_features=84)\n",
        "        self.fc3 = nn.Linear(in_features=84,  \n",
        "                             out_features=2)\n",
        "        self.activation = nn.Softmax(dim=1)\n",
        "\n",
        "        \n",
        "    def forward(self, X):\n",
        "        X = F.relu(self.fc1(X))\n",
        "        X = F.relu(self.fc2(X))\n",
        "        X = F.relu(self.fc3(X))\n",
        "        return self.activation(X)"
      ],
      "execution_count": null,
      "outputs": []
    },
    {
      "cell_type": "code",
      "metadata": {
        "colab": {
          "base_uri": "https://localhost:8080/",
          "height": 1000
        },
        "id": "YsDUg3tVM1Qo",
        "outputId": "5c3637ba-4bdd-4e82-d4b3-b75c34e20bc5"
      },
      "source": [
        "net2 = NeuralNet().cuda()\n",
        "criterion = nn.CrossEntropyLoss() # use a Classification Cross-Entropy loss\n",
        "optimizer = optim.SGD(net.parameters(), lr=0.001, momentum=0.9)\n",
        "\n",
        "counter = []\n",
        "loss_history = [] \n",
        "iteration_number= 0\n",
        "\n",
        "for epoch in range(0,NUMBER_EPOCHS):\n",
        "    print(\"Epoch：\", epoch, \" start.\")\n",
        "    for i, data in enumerate(trainloader,0):\n",
        "        img0, img1 , labels, class_labels = data \n",
        "        img0, img1 , labels = img0.cuda(), img1.cuda() , labels.cuda()#move to GPU\n",
        "        optimizer.zero_grad()#clear the calculated grad in previous batch\n",
        "        outputs = net([img0,img1])\n",
        "        out2 = net2(outputs[0])\n",
        "        loss = criterion(out2, class_labels[0].cuda())\n",
        "\n",
        "        loss.backward()\n",
        "        optimizer.step()\n",
        "\n",
        "        print(\"Iteration number {}\\n Current loss {}\\n\".format(i,loss.item()))\n",
        "        if i %10 == 0 :#show changes of loss value after each 10 batches\n",
        "            iteration_number +=10\n",
        "            counter.append(iteration_number)\n",
        "            loss_history.append(loss.item())\n",
        "    \n",
        "    \n",
        "    #test the network after finish each epoch, to have a brief training result.\n",
        "    correct_val = 0\n",
        "    total_val = 0\n",
        "    with torch.no_grad():#essential for testing\n",
        "        for data in valloader:\n",
        "            img0, img1 , labels, class_labels = data\n",
        "            img0, img1 , labels = img0.cuda(), img1.cuda() , labels.cuda()\n",
        "            outputs = net([img0,img1])\n",
        "            out = net2(outputs[0])\n",
        "            _, predicted = torch.max(out.data, 1)\n",
        "            total_val += class_labels[0].cuda().size(0)\n",
        "            correct_val += (predicted == class_labels[0].cuda()).sum().item()\n",
        "            \n",
        "    print('Accuracy of the network on the', total_val,': %d %%' % (100 * correct_val / total_val))\n",
        "    show_plot(counter,loss_history)"
      ],
      "execution_count": null,
      "outputs": [
        {
          "output_type": "stream",
          "name": "stdout",
          "text": [
            "Epoch： 0  start.\n",
            "Epoch number 0\n",
            " Current loss 0.6931543350219727\n",
            "\n",
            "Epoch number 0\n",
            " Current loss 0.6931827664375305\n",
            "\n",
            "Epoch number 0\n",
            " Current loss 0.6931474804878235\n",
            "\n",
            "Epoch number 0\n",
            " Current loss 0.6931574940681458\n",
            "\n",
            "Epoch number 0\n",
            " Current loss 0.6931474804878235\n",
            "\n",
            "Epoch number 0\n",
            " Current loss 0.6931976675987244\n",
            "\n",
            "Epoch number 0\n",
            " Current loss 0.6931808590888977\n",
            "\n",
            "Epoch number 0\n",
            " Current loss 0.6931797862052917\n",
            "\n",
            "Epoch number 0\n",
            " Current loss 0.6931540369987488\n",
            "\n",
            "Epoch number 0\n",
            " Current loss 0.6932023763656616\n",
            "\n",
            "Epoch number 0\n",
            " Current loss 0.6931915879249573\n",
            "\n",
            "Epoch number 0\n",
            " Current loss 0.6931549310684204\n",
            "\n",
            "Epoch number 0\n",
            " Current loss 0.6931371688842773\n",
            "\n",
            "Epoch number 0\n",
            " Current loss 0.6931474804878235\n",
            "\n",
            "Epoch number 0\n",
            " Current loss 0.6931199431419373\n",
            "\n",
            "Epoch number 0\n",
            " Current loss 0.693140983581543\n",
            "\n",
            "Accuracy of the network on the 1000 : 27 %\n"
          ]
        },
        {
          "output_type": "display_data",
          "data": {
            "image/png": "[encoded data removed]",
            "text/plain": [
              "<Figure size 432x288 with 1 Axes>"
            ]
          },
          "metadata": {
            "needs_background": "light"
          }
        }
      ]
    },
    {
      "cell_type": "code",
      "metadata": {
        "id": "PRbgGOBa0iTs"
      },
      "source": [
        "torch.save(net.state_dict(),\"net.pth\")\n",
        "torch.save(net2.state_dict(),\"net2.pth\")"
      ],
      "execution_count": null,
      "outputs": []
    },
    {
      "cell_type": "markdown",
      "metadata": {
        "id": "Fv4aOpOe19kW"
      },
      "source": [
        "### **Streamlit GUI**"
      ]
    },
    {
      "cell_type": "code",
      "metadata": {
        "id": "IYaTnxv628FL",
        "colab": {
          "base_uri": "https://localhost:8080/"
        },
        "outputId": "914c9c7d-b7ca-4931-c879-107e6ec28d57"
      },
      "source": [
        "#Writing all necessary functions in one cell\n",
        "%%writefile DeepFakeGUI.py\n",
        "import streamlit as st\n",
        "\n",
        "from itertools import permutations, product\n",
        "from random import sample, choice, shuffle\n",
        "from glob import glob\n",
        "import time\n",
        "from datetime import timedelta\n",
        "from tqdm import tqdm\n",
        "import torchvision\n",
        "import torchvision.datasets as dset\n",
        "import torchvision.transforms as transforms\n",
        "from torch.utils.data import DataLoader,Dataset\n",
        "import matplotlib.pyplot as plt\n",
        "import torchvision.utils\n",
        "import numpy as np\n",
        "import random\n",
        "from PIL import Image\n",
        "import torch\n",
        "from torch.autograd import Variable\n",
        "import PIL.ImageOps    \n",
        "import torch.nn as nn\n",
        "from torch import optim\n",
        "import torch.nn.functional as F\n",
        "import torchvision.models as models\n",
        "\n",
        "\n",
        "class SiameseNetwork(nn.Module):# A simple implementation of siamese network, ResNet50 is used, and then connected by three fc layer.\n",
        "    def __init__(self,model,n):\n",
        "        super(SiameseNetwork, self).__init__()\n",
        "        self.cnn1 = model\n",
        "        self.fc1 = nn.Linear(n, 500)\n",
        "        self.fc2 = nn.Linear(500, 500)\n",
        "        self.fc3 = nn.Linear(500, 128)\n",
        "\n",
        "\n",
        "    def forward(self, inputs):#did not know how to let two resnet share the same param.\n",
        "        results = []\n",
        "\n",
        "        for input in inputs:\n",
        "            output = self.cnn1(input)\n",
        "            output = output.view(output.size()[0], -1)\n",
        "            output = F.relu(self.fc1(output))\n",
        "            output = F.relu(self.fc2(output))\n",
        "            output = self.fc3(output)\n",
        "\n",
        "            results.append(output)\n",
        "\n",
        "        return results\n",
        "\n",
        "\n",
        "class NeuralNet(nn.Module):\n",
        "    \n",
        "    def __init__(self, in_features=4, out_features=3):\n",
        "        super().__init__()\n",
        "        self.fc1 = nn.Linear(in_features=128,\n",
        "                             out_features=120)\n",
        "        self.fc2 = nn.Linear(in_features=120, \n",
        "                             out_features=84)\n",
        "        self.fc3 = nn.Linear(in_features=84,  \n",
        "                             out_features=2)\n",
        "        self.activation = nn.Softmax(dim=1)\n",
        "\n",
        "        \n",
        "    def forward(self, X):\n",
        "        X = F.relu(self.fc1(X))\n",
        "        X = F.relu(self.fc2(X))\n",
        "        X = F.relu(self.fc3(X))\n",
        "        return self.activation(X)\n",
        "\n",
        "\n",
        "st.title(\"Deepfake Detection App\")\n",
        "st.subheader(\"This app takes in an image uploaded by the user and upon clicking the 'Verdict' button, displays if the uploaded image is fake or real\" )\n",
        "\n",
        "uploaded_file = st.file_uploader(\"Choose an image from your file directory\", type=[\"jpg\",\"png\",\"jpeg\"])\n",
        "if uploaded_file is not None:\n",
        "    image = Image.open(uploaded_file)\n",
        "\n",
        "    net = SiameseNetwork(models.resnet50(pretrained=True),1000).cuda()\n",
        "    net2 = NeuralNet().cuda()\n",
        "\n",
        "    net.load_state_dict(torch.load(\"net.pth\"))\n",
        "    net2.load_state_dict(torch.load(\"net2.pth\"))\n",
        "\n",
        "    net.eval()\n",
        "    net2.eval()\n",
        "\n",
        "    st.image(image, caption='Uploaded Image.', use_column_width= True)\n",
        "    st.write(\"\")\n",
        "    test_transforms = transforms.Compose([transforms.Resize((100,100)),transforms.ToTensor()])\n",
        "    image_tensor = test_transforms(image).float()\n",
        "    image_tensor = image_tensor.unsqueeze_(0)\n",
        "    input = Variable(image_tensor)\n",
        "    input = input.cuda()\n",
        "    out1=net([input])\n",
        "    output = net2(out1[0])\n",
        "    print(output.data.cpu().numpy())\n",
        "    prediction = output.data.cpu().numpy().argmax()\n",
        "\n",
        "    if(st.button('Verdict')):\n",
        "        if prediction == 0:\n",
        "            st.error(\"The image uploaded is fake\")\n",
        "        elif prediction == 1:\n",
        "            st.success(\"The image uploaded is real\")"
      ],
      "execution_count": null,
      "outputs": [
        {
          "output_type": "stream",
          "name": "stdout",
          "text": [
            "Overwriting DeepFakeGUI.py\n"
          ]
        }
      ]
    },
    {
      "cell_type": "code",
      "metadata": {
        "id": "3zUnCLSM3HKl",
        "colab": {
          "base_uri": "https://localhost:8080/"
        },
        "outputId": "4e6603be-05f6-4669-8162-54af5cbd9512"
      },
      "source": [
        "#Command to run the GUI\n",
        "!streamlit run DeepFakeGUI.py & npx localtunnel --port 8501"
      ],
      "execution_count": null,
      "outputs": [
        {
          "output_type": "stream",
          "name": "stdout",
          "text": [
            "\u001b[K\u001b[?25hnpx: installed 22 in 1.418s\n",
            "your url is: https://tender-turtle-63.loca.lt\n",
            "\u001b[0m\n",
            "\u001b[34m\u001b[1m  You can now view your Streamlit app in your browser.\u001b[0m\n",
            "\u001b[0m\n",
            "\u001b[34m  Network URL: \u001b[0m\u001b[1mhttp://172.28.0.2:8501\u001b[0m\n",
            "\u001b[34m  External URL: \u001b[0m\u001b[1mhttp://35.234.14.117:8501\u001b[0m\n",
            "\u001b[0m\n",
            "[[0.5 0.5]]\n",
            "[[0.5 0.5]]\n",
            "\u001b[34m  Stopping...\u001b[0m\n",
            "^C\n"
          ]
        }
      ]
    }
  ]
}