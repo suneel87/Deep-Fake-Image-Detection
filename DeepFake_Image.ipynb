{
  "nbformat": 4,
  "nbformat_minor": 0,
  "metadata": {
    "accelerator": "GPU",
    "colab": {
      "name": "DeepFake_Image.ipynb",
      "provenance": [],
      "collapsed_sections": [],
      "machine_shape": "hm"
    },
    "kernelspec": {
      "display_name": "Python 3",
      "name": "python3"
    },
    "language_info": {
      "name": "python"
    }
  },
  "cells": [
    {
      "cell_type": "code",
      "metadata": {
        "colab": {
          "base_uri": "https://localhost:8080/"
        },
        "id": "26_qT2-7YPNR",
        "outputId": "fc7cfae9-e691-4b9f-991a-c1cf24cc3b2b"
      },
      "source": [
        "from google.colab import drive\n",
        "drive.mount('/content/drive')"
      ],
      "execution_count": 1,
      "outputs": [
        {
          "output_type": "stream",
          "name": "stdout",
          "text": [
            "Drive already mounted at /content/drive; to attempt to forcibly remount, call drive.mount(\"/content/drive\", force_remount=True).\n"
          ]
        }
      ]
    },
    {
      "cell_type": "code",
      "metadata": {
        "id": "njb7fTuzYmc0"
      },
      "source": [
        "from itertools import permutations, product\n",
        "from random import sample, choice, shuffle\n",
        "from glob import glob\n",
        "import time\n",
        "from datetime import timedelta\n",
        "from tqdm import tqdm\n",
        "\n",
        "\n",
        "%matplotlib inline\n",
        "import torchvision\n",
        "import torchvision.datasets as dset\n",
        "import torchvision.transforms as transforms\n",
        "from torch.utils.data import DataLoader,Dataset\n",
        "import matplotlib.pyplot as plt\n",
        "import torchvision.utils\n",
        "import numpy as np\n",
        "import random\n",
        "from PIL import Image\n",
        "import torch\n",
        "from torch.autograd import Variable\n",
        "import PIL.ImageOps    \n",
        "import torch.nn as nn\n",
        "from torch import optim\n",
        "import torch.nn.functional as F"
      ],
      "execution_count": 2,
      "outputs": []
    },
    {
      "cell_type": "code",
      "metadata": {
        "id": "-32B_u_pZrbs"
      },
      "source": [
        "def ContrastiveLoss(y,fx1,fx2):\n",
        "  m=2\n",
        "\n",
        "  E=torch.pow((fx1-fx2),2)\n",
        "  \n",
        "  mat_max = np.maximum(np.zeros((y.shape[0], 128)), torch.pow((m-E),2).detach().cpu().numpy())\n",
        "\n",
        "  torch_loss = 0.5*(y.detach().cpu().numpy()*torch.pow(E,2).detach().cpu().numpy().T) + (1-y.detach().cpu().numpy())*mat_max.T\n",
        "\n",
        "  return torch.tensor(torch.sum(torch.tensor(torch_loss.T)), requires_grad=True)"
      ],
      "execution_count": 3,
      "outputs": []
    },
    {
      "cell_type": "code",
      "metadata": {
        "id": "atyPSYVkYvMc"
      },
      "source": [
        "fake = glob(\"/content/drive/My Drive/faces/fake/*\")\n",
        "real = glob(\"/content/drive/My Drive/faces/real/*\")"
      ],
      "execution_count": 4,
      "outputs": []
    },
    {
      "cell_type": "code",
      "metadata": {
        "id": "Dxzc1BpdZepn"
      },
      "source": [
        "fake_ = [x.split(\"/\")[-1] for x in fake]\n",
        "real_ = [x.split(\"/\")[-1] for x in real]\n",
        "\n",
        "fake_ = [\"fake_\" + x for x in fake_]"
      ],
      "execution_count": 5,
      "outputs": []
    },
    {
      "cell_type": "code",
      "metadata": {
        "colab": {
          "base_uri": "https://localhost:8080/"
        },
        "id": "td6l60uaZvvU",
        "outputId": "a847218b-579a-49df-c09d-5bbce96bf24c"
      },
      "source": [
        "start = time.time()\n",
        "\n",
        "pairs_distinct = list(product(real_,fake_))\n",
        "\n",
        "pairs_real = list(product(real_,real_))\n",
        "\n",
        "pairs_fake = list(product(fake_,fake_))\n",
        "\n",
        "end = time.time()\n",
        "\n",
        "print(f'Time Taken: {timedelta(seconds=(end - start))}')"
      ],
      "execution_count": 6,
      "outputs": [
        {
          "output_type": "stream",
          "name": "stdout",
          "text": [
            "Time Taken: 0:00:00.351912\n"
          ]
        }
      ]
    },
    {
      "cell_type": "code",
      "metadata": {
        "colab": {
          "base_uri": "https://localhost:8080/"
        },
        "id": "rhbK4S-0CRs5",
        "outputId": "a89c1c2d-0e53-4ba4-f963-3fa493166620"
      },
      "source": [
        "len(pairs_distinct) + len(pairs_fake) + len(pairs_real)"
      ],
      "execution_count": 7,
      "outputs": [
        {
          "output_type": "execute_result",
          "data": {
            "text/plain": [
              "3127921"
            ]
          },
          "metadata": {},
          "execution_count": 7
        }
      ]
    },
    {
      "cell_type": "code",
      "metadata": {
        "id": "RadXNKYraD0V"
      },
      "source": [
        "pairs = pairs_distinct + pairs_real + pairs_fake\n",
        "pairs = sample(pairs, len(pairs))\n",
        "pairs = list(set(pairs))"
      ],
      "execution_count": 8,
      "outputs": []
    },
    {
      "cell_type": "code",
      "metadata": {
        "colab": {
          "base_uri": "https://localhost:8080/"
        },
        "id": "K5PJGEAfaG_S",
        "outputId": "b9225481-0414-4df8-f480-3161f81408cb"
      },
      "source": [
        "ord('f'), ord('r')"
      ],
      "execution_count": 9,
      "outputs": [
        {
          "output_type": "execute_result",
          "data": {
            "text/plain": [
              "(102, 114)"
            ]
          },
          "metadata": {},
          "execution_count": 9
        }
      ]
    },
    {
      "cell_type": "code",
      "metadata": {
        "colab": {
          "base_uri": "https://localhost:8080/"
        },
        "id": "6GGJ9WFHaIi5",
        "outputId": "57800f86-caa6-4874-fcb8-0c39651e2a72"
      },
      "source": [
        "start = time.time()\n",
        "\n",
        "label_dict = {}\n",
        "for idx, pair in enumerate(pairs):\n",
        "    l1, l2 = pair[0].split(\"_\")[0][0], pair[1].split(\"_\")[0][0]\n",
        "    \n",
        "    l_sum = ord(l1) + ord(l2)\n",
        "    \n",
        "    if l_sum == 204:\n",
        "        label = 1 #impostor pair\n",
        "    elif l_sum == 216:\n",
        "        label = 0\n",
        "    elif l_sum == 228:\n",
        "        label = 1 # real pair\n",
        "    \n",
        "    label_dict[idx] = label\n",
        "\n",
        "end = time.time()\n",
        "\n",
        "print(f'Time Taken: {timedelta(seconds=(end - start))}')"
      ],
      "execution_count": 10,
      "outputs": [
        {
          "output_type": "stream",
          "name": "stdout",
          "text": [
            "Time Taken: 0:00:04.796964\n"
          ]
        }
      ]
    },
    {
      "cell_type": "code",
      "metadata": {
        "id": "ekbS8d16aNEc"
      },
      "source": [
        "class DFDataset(Dataset):\n",
        "    \n",
        "    def __init__(self, root_dir, real_dir, fake_dir, pairs, lab_dict, transform=None):\n",
        "        self.root_dir = root_dir\n",
        "        self.real_dir = real_dir\n",
        "        self.fake_dir = fake_dir\n",
        "        self.transform = transform\n",
        "        self.pairs = pairs\n",
        "        self.lab_dict = lab_dict\n",
        "    \n",
        "    def __len__(self):\n",
        "        return len(self.pairs)\n",
        "    \n",
        "    def __getitem__(self, idx):\n",
        "        pair = self.pairs[idx]\n",
        "        class_labels = []\n",
        "        \n",
        "        if pair[0].split(\"_\")[0] == \"real\":\n",
        "            img1 = Image.open(f'{self.root_dir}/{self.real_dir}/{pair[0]}')\n",
        "            class_labels.append(1)\n",
        "            \n",
        "        elif pair[0].split(\"_\")[0] == \"fake\":\n",
        "            path_ = pair[0].replace('fake_', '')\n",
        "            img1 = Image.open(f'{self.root_dir}/{self.fake_dir}/{path_}')\n",
        "            class_labels.append(0)\n",
        "            \n",
        "        if pair[1].split(\"_\")[0] == \"real\":\n",
        "            img2 = Image.open(f'{self.root_dir}/{self.real_dir}/{pair[1]}')\n",
        "            class_labels.append(1)\n",
        "            \n",
        "        elif pair[1].split(\"_\")[0] == \"fake\":\n",
        "            path_ = pair[1].replace('fake_', '')\n",
        "            img2 = Image.open(f'{self.root_dir}/{self.fake_dir}/{path_}')\n",
        "            class_labels.append(0)\n",
        "            \n",
        "        if self.transform is not None:\n",
        "            img1 = self.transform(img1)\n",
        "            img2 = self.transform(img2)\n",
        "            \n",
        "        \n",
        "        label = self.lab_dict[idx]\n",
        "        \n",
        "        return img1, img2, label, class_labels\n",
        "        "
      ],
      "execution_count": 11,
      "outputs": []
    },
    {
      "cell_type": "code",
      "metadata": {
        "id": "vEzLD_VFaPUn"
      },
      "source": [
        "BATCH_SIZE=64\n",
        "NUMBER_EPOCHS=1\n",
        "IMG_SIZE=100"
      ],
      "execution_count": 12,
      "outputs": []
    },
    {
      "cell_type": "code",
      "metadata": {
        "colab": {
          "base_uri": "https://localhost:8080/"
        },
        "id": "y-XFJmEXaUE8",
        "outputId": "7d6086d4-d7b4-44d1-c29e-6f50aff5dae3"
      },
      "source": [
        "len(pairs)"
      ],
      "execution_count": 13,
      "outputs": [
        {
          "output_type": "execute_result",
          "data": {
            "text/plain": [
              "3127921"
            ]
          },
          "metadata": {},
          "execution_count": 13
        }
      ]
    },
    {
      "cell_type": "code",
      "metadata": {
        "id": "mxAYtpRWiihA"
      },
      "source": [
        "a, b, c = np.array_split(pairs, 3)"
      ],
      "execution_count": 14,
      "outputs": []
    },
    {
      "cell_type": "code",
      "metadata": {
        "colab": {
          "base_uri": "https://localhost:8080/"
        },
        "id": "7kPSvT7PkJXQ",
        "outputId": "37f7f16f-0ab1-47f5-f128-3075626df6eb"
      },
      "source": [
        "len(a), len(b), len(c)"
      ],
      "execution_count": 15,
      "outputs": [
        {
          "output_type": "execute_result",
          "data": {
            "text/plain": [
              "(1042641, 1042640, 1042640)"
            ]
          },
          "metadata": {},
          "execution_count": 15
        }
      ]
    },
    {
      "cell_type": "code",
      "metadata": {
        "id": "CAAmK6JZaQ-D"
      },
      "source": [
        "trainset = DFDataset('/content/drive/My Drive/faces', 'real', 'fake', sample(list(a), 1000), label_dict, \n",
        "                                                             transform=transforms.Compose([transforms.Resize((100,100)),\n",
        "                                                                      transforms.ToTensor()\n",
        "                                                                      ]))\n",
        "\n",
        "trainloader = DataLoader(trainset,\n",
        "                        shuffle=True,#whether randomly shuffle data in each epoch, but cannot let data in one batch in order.\n",
        "                        batch_size=BATCH_SIZE)\n",
        "\n",
        "\n",
        "valset = DFDataset('/content/drive/My Drive/faces', 'real', 'fake', sample(list(b), 1000), label_dict, \n",
        "                                                             transform=transforms.Compose([transforms.Resize((100,100)),\n",
        "                                                                      transforms.ToTensor()\n",
        "                                                                      ]))\n",
        "\n",
        "valloader = DataLoader(valset,\n",
        "                        shuffle=True,#whether randomly shuffle data in each epoch, but cannot let data in one batch in order.\n",
        "                        batch_size=BATCH_SIZE)\n"
      ],
      "execution_count": 16,
      "outputs": []
    },
    {
      "cell_type": "code",
      "metadata": {
        "id": "xv6_lTjTafKo"
      },
      "source": [
        "def imshow(img,text=None,should_save=False):\n",
        "    npimg = img.numpy()\n",
        "    plt.axis(\"off\")\n",
        "    if text:\n",
        "        plt.text(75, 8, text, style='italic',fontweight='bold',\n",
        "            bbox={'facecolor':'white', 'alpha':0.8, 'pad':10})\n",
        "    plt.imshow(np.transpose(npimg, (1, 2, 0)))\n",
        "    plt.show()    \n",
        "\n",
        "def show_plot(iteration,loss):\n",
        "    plt.plot(iteration,loss)\n",
        "    plt.show()"
      ],
      "execution_count": 17,
      "outputs": []
    },
    {
      "cell_type": "code",
      "metadata": {
        "colab": {
          "base_uri": "https://localhost:8080/",
          "height": 132
        },
        "id": "l03d7g2Zahd5",
        "outputId": "7ce12edb-3dcb-44d1-de89-4645ced5adaa"
      },
      "source": [
        "vis_dataloader = DataLoader(trainset,\n",
        "                        shuffle=True,\n",
        "                        batch_size=8)\n",
        "dataiter = iter(vis_dataloader)\n",
        "\n",
        "\n",
        "example_batch = next(dataiter)\n",
        "concatenated = torch.cat((example_batch[0],example_batch[1]),0)\n",
        "imshow(torchvision.utils.make_grid(concatenated))\n",
        "print(example_batch[2].numpy())"
      ],
      "execution_count": 18,
      "outputs": [
        {
          "output_type": "display_data",
          "data": {
            "image/png": "[encoded data removed]",
            "text/plain": [
              "<Figure size 432x288 with 1 Axes>"
            ]
          },
          "metadata": {
            "needs_background": "light"
          }
        },
        {
          "output_type": "stream",
          "name": "stdout",
          "text": [
            "[1 0 0 1 1 0 1 1]\n"
          ]
        }
      ]
    },
    {
      "cell_type": "code",
      "metadata": {
        "id": "I9-7De2VbCp7"
      },
      "source": [
        "class SiameseNetwork(nn.Module):# A simple implementation of siamese network, ResNet50 is used, and then connected by three fc layer.\n",
        "    def __init__(self):\n",
        "        super(SiameseNetwork, self).__init__()\n",
        "        #self.cnn1 = models.resnet50(pretrained=True)#resnet50 doesn't work, might because pretrained model recognize all faces as the same.\n",
        "        self.cnn1 = nn.Sequential(\n",
        "            nn.ReflectionPad2d(1),\n",
        "            nn.Conv2d(3, BATCH_SIZE, kernel_size=3),\n",
        "            nn.ReLU(inplace=True),\n",
        "            nn.BatchNorm2d(BATCH_SIZE),\n",
        "            nn.Dropout2d(p=.2),\n",
        "            \n",
        "            nn.ReflectionPad2d(1),\n",
        "            nn.Conv2d(BATCH_SIZE, BATCH_SIZE, kernel_size=3),\n",
        "            nn.ReLU(inplace=True),\n",
        "            nn.BatchNorm2d(BATCH_SIZE),\n",
        "            nn.Dropout2d(p=.2),\n",
        "\n",
        "            nn.ReflectionPad2d(1),\n",
        "            nn.Conv2d(BATCH_SIZE, 32, kernel_size=3),\n",
        "            nn.ReLU(inplace=True),\n",
        "            nn.BatchNorm2d(32),\n",
        "            nn.Dropout2d(p=.2),\n",
        "        )\n",
        "        self.fc1 = nn.Linear(32*100*100, 500)\n",
        "        self.fc2 = nn.Linear(500, 500)\n",
        "        self.fc3 = nn.Linear(500, 128)\n",
        "\n",
        "\n",
        "    def forward(self, inputs):#did not know how to let two resnet share the same param.\n",
        "        results = []\n",
        "\n",
        "        for input in inputs:\n",
        "            output = self.cnn1(input)\n",
        "            output = output.view(output.size()[0], -1)\n",
        "            output = F.relu(self.fc1(output))\n",
        "            output = F.relu(self.fc2(output))\n",
        "            output = self.fc3(output)\n",
        "\n",
        "            results.append(output)\n",
        "\n",
        "        return results"
      ],
      "execution_count": 19,
      "outputs": []
    },
    {
      "cell_type": "code",
      "metadata": {
        "colab": {
          "base_uri": "https://localhost:8080/",
          "height": 1000
        },
        "id": "z-jnl2-wbErT",
        "outputId": "8ebdba43-72da-45ab-8154-5d00c0349ff2"
      },
      "source": [
        "net = SiameseNetwork().cuda()\n",
        "criterion = nn.CrossEntropyLoss() # use a Classification Cross-Entropy loss\n",
        "optimizer = optim.SGD(net.parameters(), lr=0.001, momentum=0.9)\n",
        "\n",
        "counter = []\n",
        "loss_history = [] \n",
        "iteration_number= 0\n",
        "\n",
        "for epoch in range(0,NUMBER_EPOCHS):\n",
        "    print(\"Epoch：\", epoch, \" start.\")\n",
        "    for i, data in enumerate(trainloader,0):\n",
        "        img0, img1 , labels, _ = data #img=tensor[batch_size,channels,width,length], label=tensor[batch_size,label]\n",
        "        img0, img1 , labels = img0.cuda(), img1.cuda() , labels.cuda()#move to GPU\n",
        "        #print(\"epoch：\", epoch, \"No.\" , i, \"th inputs\", img0.data.size(), \"labels\", labels.data.size())\n",
        "        optimizer.zero_grad()#clear the calculated grad in previous batch\n",
        "        outputs = net([img0,img1])\n",
        "        loss = ContrastiveLoss(labels, outputs[0], outputs[1])\n",
        "        loss.backward()\n",
        "        optimizer.step()\n",
        "\n",
        "        print(\"Epoch number {}\\n Current loss {}\\n\".format(epoch,loss.item()))\n",
        "        if i %10 == 0 :#show changes of loss value after each 10 batches\n",
        "            #print(\"Epoch number {}\\n Current loss {}\\n\".format(epoch,loss.item()))\n",
        "            iteration_number +=10\n",
        "            counter.append(iteration_number)\n",
        "            loss_history.append(loss.item())\n",
        "    # print(\"Epoch number {}\\n Current loss {}\\n\".format(epoch,loss.item()))\n",
        "    \n",
        "    \n",
        "    #test the network after finish each epoch, to have a brief training result.\n",
        "    correct_val = 0\n",
        "    total_val = 0\n",
        "    with torch.no_grad():#essential for testing!!!!\n",
        "        for data in valloader:\n",
        "            img0, img1 , labels, _ = data\n",
        "            img0, img1 , labels = img0.cuda(), img1.cuda() , labels.cuda()\n",
        "            outputs = net([img0,img1])\n",
        "            _, predicted = torch.max(outputs[0].data, 1)\n",
        "            total_val += labels.size(0)\n",
        "            correct_val += (predicted == labels).sum().item()\n",
        "            \n",
        "    print('Accuracy of the network on the', total_val,': %d %%' % (100 * correct_val / total_val))\n",
        "    show_plot(counter,loss_history)"
      ],
      "execution_count": 20,
      "outputs": [
        {
          "output_type": "stream",
          "name": "stdout",
          "text": [
            "Epoch： 0  start.\n"
          ]
        },
        {
          "output_type": "stream",
          "name": "stderr",
          "text": [
            "/usr/local/lib/python3.7/dist-packages/ipykernel_launcher.py:10: UserWarning: To copy construct from a tensor, it is recommended to use sourceTensor.clone().detach() or sourceTensor.clone().detach().requires_grad_(True), rather than torch.tensor(sourceTensor).\n",
            "  # Remove the CWD from sys.path while we load stuff.\n"
          ]
        },
        {
          "output_type": "stream",
          "name": "stdout",
          "text": [
            "Epoch number 0\n",
            " Current loss 12650.258125625372\n",
            "\n",
            "Epoch number 0\n",
            " Current loss 7095.340353693911\n",
            "\n",
            "Epoch number 0\n",
            " Current loss 11149.157705916972\n",
            "\n",
            "Epoch number 0\n",
            " Current loss 9111.813037090837\n",
            "\n",
            "Epoch number 0\n",
            " Current loss 10631.186039155005\n",
            "\n",
            "Epoch number 0\n",
            " Current loss 11132.627107729171\n",
            "\n",
            "Epoch number 0\n",
            " Current loss 7594.554140671059\n",
            "\n",
            "Epoch number 0\n",
            " Current loss 14162.048078279717\n",
            "\n",
            "Epoch number 0\n",
            " Current loss 13664.031243724208\n",
            "\n",
            "Epoch number 0\n",
            " Current loss 13169.388032962375\n",
            "\n",
            "Epoch number 0\n",
            " Current loss 7602.494502065299\n",
            "\n",
            "Epoch number 0\n",
            " Current loss 12154.733966809585\n",
            "\n",
            "Epoch number 0\n",
            " Current loss 14183.002517960293\n",
            "\n",
            "Epoch number 0\n",
            " Current loss 14184.218403445439\n",
            "\n",
            "Epoch number 0\n",
            " Current loss 8103.234732864723\n",
            "\n",
            "Epoch number 0\n",
            " Current loss 5566.026081964674\n",
            "\n",
            "Accuracy of the network on the 1000 : 0 %\n"
          ]
        },
        {
          "output_type": "display_data",
          "data": {
            "image/png": "[encoded data removed]",
            "text/plain": [
              "<Figure size 432x288 with 1 Axes>"
            ]
          },
          "metadata": {
            "needs_background": "light"
          }
        }
      ]
    },
    {
      "cell_type": "code",
      "metadata": {
        "id": "JsH4H72rr8-x"
      },
      "source": [
        "class NeuralNet(nn.Module):\n",
        "    \n",
        "    def __init__(self, in_features=4, out_features=3):\n",
        "        super().__init__()\n",
        "        self.fc1 = nn.Linear(in_features=128,\n",
        "                             out_features=120)\n",
        "        self.fc2 = nn.Linear(in_features=120, \n",
        "                             out_features=84)\n",
        "        self.fc3 = nn.Linear(in_features=84,  \n",
        "                             out_features=2)\n",
        "        self.activation = nn.Softmax(dim=1)\n",
        "\n",
        "        \n",
        "    def forward(self, X):\n",
        "        X = F.relu(self.fc1(X))\n",
        "        X = F.relu(self.fc2(X))\n",
        "        X = F.relu(self.fc3(X))\n",
        "        return self.activation(X)"
      ],
      "execution_count": 21,
      "outputs": []
    },
    {
      "cell_type": "code",
      "metadata": {
        "colab": {
          "base_uri": "https://localhost:8080/"
        },
        "id": "_mozfIWYCQal",
        "outputId": "28f2ba3d-307e-4f6f-a4b4-ba237cea3b18"
      },
      "source": [
        "net = NeuralNet().cuda()\n",
        "net2 = SiameseNetwork().cuda()\n",
        "criterion = nn.CrossEntropyLoss() # use a Classification Cross-Entropy loss\n",
        "optimizer = optim.SGD(net.parameters(), lr=0.001, momentum=0.9)\n",
        "\n",
        "outputs = None\n",
        "lab = None\n",
        "\n",
        "for i, data in enumerate(trainloader,0):\n",
        "     img0, img1 , labels, class_labels = data\n",
        "     img0, img1 , labels = img0.cuda(), img1.cuda(), labels.cuda()\n",
        "     optimizer.zero_grad()\n",
        "    #  print(img1.shape)\n",
        "     outputs = net2([img0, img1])\n",
        "     print(outputs[0].shape)\n",
        "     out2 = net(outputs[0])\n",
        "     print(out2.shape)\n",
        "     print(out2[0])\n",
        "     torch.max(out2.data, 1)\n",
        "     loss = criterion(out2, class_labels[0].cuda())\n",
        "\n",
        "    #  lab = labels\n",
        "\n",
        "    #  loss = ContrastiveLoss(labels, outputs[0], outputs[1])\n",
        "\n",
        "     loss.backward()\n",
        "\n",
        "     break"
      ],
      "execution_count": 22,
      "outputs": [
        {
          "output_type": "stream",
          "name": "stdout",
          "text": [
            "torch.Size([64, 128])\n",
            "torch.Size([64, 2])\n",
            "tensor([0.5159, 0.4841], device='cuda:0', grad_fn=<SelectBackward0>)\n"
          ]
        }
      ]
    },
    {
      "cell_type": "code",
      "metadata": {
        "id": "q3uWnVDrFqz_"
      },
      "source": [
        ""
      ],
      "execution_count": 22,
      "outputs": []
    },
    {
      "cell_type": "code",
      "metadata": {
        "colab": {
          "base_uri": "https://localhost:8080/",
          "height": 1000
        },
        "id": "YsDUg3tVM1Qo",
        "outputId": "4a5beb63-4a89-4e1e-fd9d-4c31f5c3e1c2"
      },
      "source": [
        "net = SiameseNetwork().cuda()\n",
        "net2 = NeuralNet().cuda()\n",
        "criterion = nn.CrossEntropyLoss() # use a Classification Cross-Entropy loss\n",
        "optimizer = optim.SGD(net.parameters(), lr=0.001, momentum=0.9)\n",
        "\n",
        "counter = []\n",
        "loss_history = [] \n",
        "iteration_number= 0\n",
        "\n",
        "for epoch in range(0,NUMBER_EPOCHS):\n",
        "    print(\"Epoch：\", epoch, \" start.\")\n",
        "    for i, data in enumerate(trainloader,0):\n",
        "        img0, img1 , labels, class_labels = data #img=tensor[batch_size,channels,width,length], label=tensor[batch_size,label]\n",
        "        img0, img1 , labels = img0.cuda(), img1.cuda() , labels.cuda()#move to GPU\n",
        "        #print(\"epoch：\", epoch, \"No.\" , i, \"th inputs\", img0.data.size(), \"labels\", labels.data.size())\n",
        "        optimizer.zero_grad()#clear the calculated grad in previous batch\n",
        "        outputs = net([img0,img1])\n",
        "        out2 = net2(outputs[0])\n",
        "        loss = criterion(out2, class_labels[0].cuda())\n",
        "\n",
        "        loss.backward()\n",
        "        optimizer.step()\n",
        "\n",
        "        print(\"Epoch number {}\\n Current loss {}\\n\".format(epoch,loss.item()))\n",
        "        if i %10 == 0 :#show changes of loss value after each 10 batches\n",
        "            #print(\"Epoch number {}\\n Current loss {}\\n\".format(epoch,loss.item()))\n",
        "            iteration_number +=10\n",
        "            counter.append(iteration_number)\n",
        "            loss_history.append(loss.item())\n",
        "    # print(\"Epoch number {}\\n Current loss {}\\n\".format(epoch,loss.item()))\n",
        "    \n",
        "    \n",
        "    #test the network after finish each epoch, to have a brief training result.\n",
        "    correct_val = 0\n",
        "    total_val = 0\n",
        "    with torch.no_grad():#essential for testing!!!!\n",
        "        for data in valloader:\n",
        "            img0, img1 , labels, class_labels = data\n",
        "            img0, img1 , labels = img0.cuda(), img1.cuda() , labels.cuda()\n",
        "            outputs = net([img0,img1])\n",
        "            out = net2(outputs[0])\n",
        "            _, predicted = torch.max(out.data, 1)\n",
        "            total_val += class_labels[0].cuda().size(0)\n",
        "            correct_val += (predicted == class_labels[0].cuda()).sum().item()\n",
        "            \n",
        "    print('Accuracy of the network on the', total_val,': %d %%' % (100 * correct_val / total_val))\n",
        "    show_plot(counter,loss_history)"
      ],
      "execution_count": 23,
      "outputs": [
        {
          "output_type": "stream",
          "name": "stdout",
          "text": [
            "Epoch： 0  start.\n",
            "Epoch number 0\n",
            " Current loss 0.6832236647605896\n",
            "\n",
            "Epoch number 0\n",
            " Current loss 0.6844181418418884\n",
            "\n",
            "Epoch number 0\n",
            " Current loss 0.6865724325180054\n",
            "\n",
            "Epoch number 0\n",
            " Current loss 0.6858576536178589\n",
            "\n",
            "Epoch number 0\n",
            " Current loss 0.6840609908103943\n",
            "\n",
            "Epoch number 0\n",
            " Current loss 0.6834210157394409\n",
            "\n",
            "Epoch number 0\n",
            " Current loss 0.685632586479187\n",
            "\n",
            "Epoch number 0\n",
            " Current loss 0.6850351691246033\n",
            "\n",
            "Epoch number 0\n",
            " Current loss 0.6899179816246033\n",
            "\n",
            "Epoch number 0\n",
            " Current loss 0.6848179697990417\n",
            "\n",
            "Epoch number 0\n",
            " Current loss 0.6861205697059631\n",
            "\n",
            "Epoch number 0\n",
            " Current loss 0.6851633191108704\n",
            "\n",
            "Epoch number 0\n",
            " Current loss 0.6858741641044617\n",
            "\n",
            "Epoch number 0\n",
            " Current loss 0.6830464005470276\n",
            "\n",
            "Epoch number 0\n",
            " Current loss 0.6861743330955505\n",
            "\n",
            "Epoch number 0\n",
            " Current loss 0.688444972038269\n",
            "\n",
            "Accuracy of the network on the 1000 : 73 %\n"
          ]
        },
        {
          "output_type": "display_data",
          "data": {
            "image/png": "[encoded data removed]",
            "text/plain": [
              "<Figure size 432x288 with 1 Axes>"
            ]
          },
          "metadata": {
            "needs_background": "light"
          }
        }
      ]
    },
    {
      "cell_type": "code",
      "metadata": {
        "id": "eFttOA_XVzPZ"
      },
      "source": [
        "net.eval()\n",
        "net2.eval()\n",
        "test_transforms = transforms.Compose([transforms.Resize((100,100)),transforms.ToTensor()])\n",
        "                                                                      \n",
        "def predict_image(image):\n",
        "    img=Image.open(image)\n",
        "    image_tensor = test_transforms(img).float()\n",
        "    image_tensor = image_tensor.unsqueeze_(0)\n",
        "    input = Variable(image_tensor)\n",
        "    input = input.cuda()\n",
        "    out1=net([input])\n",
        "    output = net2(out1[0])\n",
        "    print(output.data.cpu().numpy())\n",
        "    index = output.data.cpu().numpy().argmax()\n",
        "    return index"
      ],
      "execution_count": 33,
      "outputs": []
    },
    {
      "cell_type": "code",
      "metadata": {
        "colab": {
          "base_uri": "https://localhost:8080/"
        },
        "id": "YIaBYKrPaUKe",
        "outputId": "47562c54-5026-4c0b-99d3-6f2a01790688"
      },
      "source": [
        "predict_image(\"/content/drive/MyDrive/faces/real/real_00940.jpg\")"
      ],
      "execution_count": 35,
      "outputs": [
        {
          "output_type": "stream",
          "name": "stdout",
          "text": [
            "[[0.48095015 0.5190499 ]]\n"
          ]
        },
        {
          "output_type": "execute_result",
          "data": {
            "text/plain": [
              "1"
            ]
          },
          "metadata": {},
          "execution_count": 35
        }
      ]
    },
    {
      "cell_type": "code",
      "metadata": {
        "id": "_dVN3ObeaC9r"
      },
      "source": [
        "torch.save(net.state_dict(),\"net.pth\")\n",
        "torch.save(net2.state_dict(),\"net2.pth\")"
      ],
      "execution_count": 26,
      "outputs": []
    },
    {
      "cell_type": "code",
      "metadata": {
        "id": "eI9SFqPBbKWD"
      },
      "source": [
        "# net=torch.load(\"net\")\n",
        "# net2=torch.load(\"net2\")"
      ],
      "execution_count": null,
      "outputs": []
    }
  ]
}